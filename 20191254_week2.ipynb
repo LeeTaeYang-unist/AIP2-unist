{
 "cells": [
  {
   "cell_type": "markdown",
   "metadata": {},
   "source": [
    "## ITP1170x Introduction to AI Programming II, Fall 2019\n",
    "### Practice : Python Review\n",
    "#### If you done this job, please submit your file on BB!!"
   ]
  },
  {
   "cell_type": "raw",
   "metadata": {},
   "source": [
    "Student_number :                      20191254                  / Student_Name :             Lee Tae Yang                                          "
   ]
  },
  {
   "cell_type": "markdown",
   "metadata": {},
   "source": [
    "### Goals"
   ]
  },
  {
   "cell_type": "markdown",
   "metadata": {},
   "source": [
    "In this Lab. Session, you will practice Python basis. "
   ]
  },
  {
   "cell_type": "markdown",
   "metadata": {},
   "source": [
    "This lab. handout has several empty boxes that prompt you to answer a question. As part of the lab, you are to write the answers to these questions inside the boxes. When you are finished, you should submit your result to BB.  "
   ]
  },
  {
   "cell_type": "markdown",
   "metadata": {},
   "source": [
    "#### Problem 01 : Python type & Loop Over List"
   ]
  },
  {
   "cell_type": "markdown",
   "metadata": {},
   "source": [
    "We have a list of numbers like following.  \n",
    "list_to_sum = [1,3,5,7,9]  \n",
    "Now write Python for loop that computes the total summation of all the elements in the list. Fill out the for loop body in the following. "
   ]
  },
  {
   "cell_type": "code",
   "execution_count": 3,
   "metadata": {},
   "outputs": [
    {
     "name": "stdout",
     "output_type": "stream",
     "text": [
      "25\n"
     ]
    }
   ],
   "source": [
    "list_to_sum = [1,3,5,7,9]\n",
    "sum_result = 0   # initial point \n",
    "# fill this part\n",
    "for i in list_to_sum:\n",
    "    sum_result += i\n",
    "print(sum_result)"
   ]
  },
  {
   "cell_type": "markdown",
   "metadata": {},
   "source": [
    "#### Problem 02 : Simple Problem in List"
   ]
  },
  {
   "cell_type": "markdown",
   "metadata": {},
   "source": [
    "Write a program to replace the last element in list with another list.  \n",
    "Sample data : [1,3,5,7,9,10], [2,4,6,8]  \n",
    "Expected Output : [1,3,5,7,9,2,4,6,8]  \n",
    "Now write Python for loop that computes the total summation of all the elements in the list. Fill out the for loop body in the following. "
   ]
  },
  {
   "cell_type": "code",
   "execution_count": 6,
   "metadata": {},
   "outputs": [
    {
     "name": "stdout",
     "output_type": "stream",
     "text": [
      "[1, 3, 5, 7, 9, 2, 4, 6, 8]\n"
     ]
    }
   ],
   "source": [
    "num1 = [1,3,5,7,9,10]\n",
    "num2 = [2,4,6,8] \n",
    "# fill this part\n",
    "num1.remove(10)\n",
    "num1 = num1+num2\n",
    "print(num1)"
   ]
  },
  {
   "cell_type": "markdown",
   "metadata": {},
   "source": [
    "#### Problem 03 : Dictionaries"
   ]
  },
  {
   "cell_type": "markdown",
   "metadata": {},
   "source": [
    "For this exercise, we create a dictionary that maps student names to a list, which holds the student id and the admission year.  \n",
    "d = {\"John Doe\":[2015012, 2015],\"Jane Eyre\":[2014131, 2014],\"Tom Sawyer\":[2012097, 2012]}  \n",
    "Now with studentDict, fill out next~~"
   ]
  },
  {
   "cell_type": "code",
   "execution_count": 15,
   "metadata": {},
   "outputs": [],
   "source": [
    "d = {\"John Doe\":[2015012, 2015],\"Jane Eyre\":[2014131, 2014],\"Tom Sawyer\":[2012097, 2012]}"
   ]
  },
  {
   "cell_type": "code",
   "execution_count": 16,
   "metadata": {},
   "outputs": [
    {
     "data": {
      "text/plain": [
       "dict_keys(['John Doe', 'Jane Eyre', 'Tom Sawyer'])"
      ]
     },
     "execution_count": 16,
     "metadata": {},
     "output_type": "execute_result"
    }
   ],
   "source": [
    "d.keys()"
   ]
  },
  {
   "cell_type": "code",
   "execution_count": 17,
   "metadata": {},
   "outputs": [
    {
     "data": {
      "text/plain": [
       "dict_keys(['John Doe', 'Jane Eyre', 'Tom Sawyer', 'Steve Jobs'])"
      ]
     },
     "execution_count": 17,
     "metadata": {},
     "output_type": "execute_result"
    }
   ],
   "source": [
    "d[\"Steve Jobs\"] = [1980011, 1980]\n",
    "d.keys()"
   ]
  },
  {
   "cell_type": "code",
   "execution_count": 18,
   "metadata": {},
   "outputs": [
    {
     "data": {
      "text/plain": [
       "dict_keys(['John Doe', 'Jane Eyre', 'Tom Sawyer', 'Steve Jobs', 'Bill Gates'])"
      ]
     },
     "execution_count": 18,
     "metadata": {},
     "output_type": "execute_result"
    }
   ],
   "source": [
    "d.update({\"Bill Gates\":[1978012,1978]})\n",
    "d.keys()"
   ]
  },
  {
   "cell_type": "code",
   "execution_count": 19,
   "metadata": {},
   "outputs": [
    {
     "data": {
      "text/plain": [
       "True"
      ]
     },
     "execution_count": 19,
     "metadata": {},
     "output_type": "execute_result"
    }
   ],
   "source": [
    "\"Bill Gates\" in d"
   ]
  },
  {
   "cell_type": "code",
   "execution_count": 20,
   "metadata": {},
   "outputs": [
    {
     "data": {
      "text/plain": [
       "False"
      ]
     },
     "execution_count": 20,
     "metadata": {},
     "output_type": "execute_result"
    }
   ],
   "source": [
    "\"Elon Musk\" in d"
   ]
  },
  {
   "cell_type": "markdown",
   "metadata": {},
   "source": [
    "Now, with the conditionals and loops, find all the students whose first name starts with “J” and store their student ids in a list. In other words, fill out the following code.  --> Conditionals and Loops with Dictionaries"
   ]
  },
  {
   "cell_type": "code",
   "execution_count": 21,
   "metadata": {},
   "outputs": [
    {
     "name": "stdout",
     "output_type": "stream",
     "text": [
      "[2015012, 2014131]\n"
     ]
    }
   ],
   "source": [
    "result = [] \n",
    "d = {\"John Doe\":[2015012, 2015],\"Jane Eyre\":[2014131, 2014],\"Tom Sawyer\":[2012097, 2012]}\n",
    "for i in d:\n",
    "        # fill out this part\n",
    "        if i.find('J') == 0:\n",
    "            result.append(d[i][0])\n",
    "print(result)\n",
    "\n",
    "# in the above code, if your print the result list, it should be [2015012, 2014131]"
   ]
  },
  {
   "cell_type": "markdown",
   "metadata": {},
   "source": [
    "#### Problem 04 : Print Triangle Pattern"
   ]
  },
  {
   "cell_type": "markdown",
   "metadata": {},
   "source": [
    "To print start pyramid patterns in python, you have to use two or more than two for loops. In program that prints pattern contains two for loops, the first loop is responsible for rows and the second for loop is responsible for columns. \n",
    "Firstly, Following this program \n"
   ]
  },
  {
   "cell_type": "code",
   "execution_count": 11,
   "metadata": {},
   "outputs": [
    {
     "name": "stdout",
     "output_type": "stream",
     "text": [
      "* \n",
      "* * \n",
      "* * * \n",
      "* * * * \n",
      "* * * * * \n"
     ]
    }
   ],
   "source": [
    "for x in range(0,5):\n",
    "    for y in range(0, x+1):\n",
    "        print(\"* \", end=\"\")\n",
    "    print()\n"
   ]
  },
  {
   "cell_type": "markdown",
   "metadata": {},
   "source": [
    "If you understand the above problem, solve this problem. "
   ]
  },
  {
   "cell_type": "markdown",
   "metadata": {},
   "source": [
    "result is same with below.   \n",
    "1  \n",
    "2 3  \n",
    "4 5 6  \n",
    "7 8 9 10  \n",
    "11 12 13 14 15  \n"
   ]
  },
  {
   "cell_type": "code",
   "execution_count": 13,
   "metadata": {},
   "outputs": [
    {
     "name": "stdout",
     "output_type": "stream",
     "text": [
      "1 \n",
      "2 3 \n",
      "4 5 6 \n",
      "7 8 9 10 \n",
      "11 12 13 14 15 \n"
     ]
    }
   ],
   "source": [
    "n = 1\n",
    "for x in range(0,5):\n",
    "    for y in range(0, x+1):\n",
    "        # fill out this part\n",
    "        print(n, end=\" \")\n",
    "        n +=1\n",
    "    print()\n"
   ]
  },
  {
   "cell_type": "markdown",
   "metadata": {},
   "source": [
    "#### Problem 05 : Print Pythagorean Triples"
   ]
  },
  {
   "cell_type": "markdown",
   "metadata": {},
   "source": [
    "Using a series of nested for loops, find all Pythagorean triples consisting of positive integers less than or \n",
    "equal to 20. \n"
   ]
  },
  {
   "cell_type": "code",
   "execution_count": 25,
   "metadata": {},
   "outputs": [
    {
     "name": "stdout",
     "output_type": "stream",
     "text": [
      "3, 4, 5\n",
      "5, 12, 13\n",
      "6, 8, 10\n",
      "8, 15, 17\n",
      "9, 12, 15\n",
      "12, 16, 20\n"
     ]
    }
   ],
   "source": [
    "# fill out this part:: use nest loops  \n",
    "for i in range(1,21):\n",
    "    for j in range(i,21):\n",
    "        for k in range(j,21):\n",
    "            if i**2 + j **2 == k**2:\n",
    "                \n",
    "\n",
    "\n",
    "\n",
    "                print(i,j,k, sep=\", \", end=\"\\n\")"
   ]
  },
  {
   "cell_type": "markdown",
   "metadata": {},
   "source": [
    "#### Problem 06 : Fibonacci series"
   ]
  },
  {
   "cell_type": "markdown",
   "metadata": {},
   "source": [
    "Write a program to get the Fibonacci series between 0 to 100.  \n",
    "Note : The Fibonacci Sequence is the series of numbers:  \n",
    "0,1,1,2,3,5,8,13,21,……………..  \n",
    "Every next number is found by adding up the two numbers before it.   "
   ]
  },
  {
   "cell_type": "code",
   "execution_count": 31,
   "metadata": {},
   "outputs": [
    {
     "name": "stdout",
     "output_type": "stream",
     "text": [
      "1 1 2 3 5 8 13 21 34 55 89 "
     ]
    }
   ],
   "source": [
    "x, y = 0, 1\n",
    "while y <= 100:\n",
    "    print(y, end=\" \")\n",
    "    x, y =y, x+y\n",
    "    \n",
    "\n",
    "\n",
    "# Expected output : 1 1 2 3 5 8 13 21 34 55 89 "
   ]
  },
  {
   "cell_type": "markdown",
   "metadata": {},
   "source": [
    "#### Problem 07 : Factorial of a number"
   ]
  },
  {
   "cell_type": "markdown",
   "metadata": {},
   "source": [
    "In this exercise, you will learn to find the factorial of a number and display it.  \n",
    "To understand this example, you should have the knowledge of following Python programming topics:  \n",
    "       if…else statement, loops  \n",
    "The factorial of a number is the product of all the integers from 1 to that number.   \n",
    "For example, the factorial of 6 (denoted 6!) is 1*2*3*4*5*6 = 720. Factorial is not defined for negative numbers and the factorial of zero is one, 0! = 1. "
   ]
  },
  {
   "cell_type": "code",
   "execution_count": 34,
   "metadata": {},
   "outputs": [
    {
     "name": "stdout",
     "output_type": "stream",
     "text": [
      "Enter a number: -12\n",
      "negative number\n"
     ]
    }
   ],
   "source": [
    "# Python program to find the factorial of a number provided by the user.\n",
    "\n",
    "# uncomment to take input from the user\n",
    "num = int(input(\"Enter a number: \"))\n",
    "\n",
    "factorial = 1\n",
    "\n",
    "# check if the number is negative, positive or zero\n",
    "if num < 0 :\n",
    "    print('negative number')\n",
    "elif num == 0:\n",
    "    print('The factorial of 0 is 1')\n",
    "elif num > 0:\n",
    "    for i in range(1,num + 1):\n",
    "        factorial = factorial * i\n",
    "    print(factorial)\n",
    "# fill out this part:\n",
    "# num < 0  :: display message  negative number\n",
    "# num == 0 :: display message  The factorial of 0 is 1\n",
    "# others :: is factorial….  \n",
    "\n"
   ]
  },
  {
   "cell_type": "markdown",
   "metadata": {},
   "source": [
    "#### Problem 08 : Python functions(List shift)"
   ]
  },
  {
   "cell_type": "markdown",
   "metadata": {},
   "source": [
    "For example, if you are given list [‘a’, ‘b’, ‘c’, ‘d’], then the function should shift the list elements to the right to get   [‘d’, ‘a’, ‘b’, ‘c’].\n",
    "\n",
    "If the function is given list [1, 3, 5, 7, 9, 11], then the function should modify the list to [11, 1, 3, 5, 7, 9].  \n",
    "Hint: You might want to use list.pop() function which works like following:  \n",
    "l=['a','b','c']  \n",
    "l.pop(0) # removes the 0'th element. Now l == ['b', 'c']  \n"
   ]
  },
  {
   "cell_type": "code",
   "execution_count": 1,
   "metadata": {},
   "outputs": [
    {
     "name": "stdout",
     "output_type": "stream",
     "text": [
      "[5, 1, 2, 3, 4]\n"
     ]
    }
   ],
   "source": [
    "def list_shift(l):   \n",
    "     # Your code here \n",
    "        # l.pop() removes last element in list l\n",
    "        reserved = l[len(l)-1]\n",
    "        l.pop(len(l)-1)\n",
    "        temp = []\n",
    "        temp.append(reserved)\n",
    "        l = temp + l\n",
    "        return l\n",
    "        \n",
    "\n",
    "        \n",
    "\n",
    "l = [1,2,3,4,5]\n",
    "l = list_shift(l)\n",
    "print(l) # [5,1,2,3,4]"
   ]
  },
  {
   "cell_type": "code",
   "execution_count": 43,
   "metadata": {
    "scrolled": true
   },
   "outputs": [
    {
     "name": "stdout",
     "output_type": "stream",
     "text": [
      "[5, 1, 2, 3, 4]\n"
     ]
    }
   ],
   "source": [
    "def list_shift(l): \n",
    "    if len(l) == 1:\n",
    "        return l\n",
    "    length = len(l) - 1\n",
    "    f = l[length]\n",
    "    l.pop(length)\n",
    "    for i in range(length, 1):\n",
    "        l.insert(i, l[i-1])\n",
    "    l.insert(0,f)\n",
    "    return l\n",
    "\n",
    "l = [1,2,3,4,5]\n",
    "l = list_shift(l)\n",
    "print(l) # [5,1,2,3,4]"
   ]
  },
  {
   "cell_type": "markdown",
   "metadata": {},
   "source": [
    "#### Problem 09  : Python functions(List shift_2)"
   ]
  },
  {
   "cell_type": "markdown",
   "metadata": {},
   "source": [
    "Now use the function list_shift() to implement list_shiftN, which shifts a given list by a given number.  \n",
    "For example, list_shiftN([1,2,3,4], 2) will shift the list 2 times, to return [3,4,1,2].  \n",
    "Likewise, list_shiftN(['a','b','c','d'], 3) will return ['b','c', 'd', 'a']  \n"
   ]
  },
  {
   "cell_type": "code",
   "execution_count": 2,
   "metadata": {},
   "outputs": [
    {
     "name": "stdout",
     "output_type": "stream",
     "text": [
      "[4, 5, 1, 2, 3]\n"
     ]
    }
   ],
   "source": [
    "def list_shiftN(l, n):\n",
    "    # fill out this part\n",
    "    for i in range(n):\n",
    "        l = list_shift(l)\n",
    "    return l\n",
    "\n",
    "    \n",
    "    \n",
    "\n",
    "l = [1,2,3,4,5] \n",
    "l = list_shiftN(l, 2)\n",
    "print(l) "
   ]
  },
  {
   "cell_type": "code",
   "execution_count": 48,
   "metadata": {},
   "outputs": [
    {
     "name": "stdout",
     "output_type": "stream",
     "text": [
      "[4, 5, 1, 2, 3]\n"
     ]
    }
   ],
   "source": [
    "def list_shiftN(l,n):\n",
    "    for i in range(n):\n",
    "        value = l.pop()\n",
    "        l.insert(0, value)\n",
    "    return l\n",
    "l = [1,2,3,4,5] \n",
    "l = list_shiftN(l, 2)\n",
    "print(l) "
   ]
  },
  {
   "cell_type": "markdown",
   "metadata": {},
   "source": [
    "#### Problem 10 : Python functions(List shift_3)"
   ]
  },
  {
   "cell_type": "markdown",
   "metadata": {},
   "source": [
    "Now make list_shiftN() to work with negative numbers, where negative numbers mean shifting to the left.  \n",
    "For example, list_shiftN([1,2,3], -1) should result in [2,3,1] by shifting to left.  \n",
    "list_shiftN(['a','b','c','d'], -3) should result in ['d','a','b','c']\n"
   ]
  },
  {
   "cell_type": "code",
   "execution_count": 52,
   "metadata": {},
   "outputs": [
    {
     "name": "stdout",
     "output_type": "stream",
     "text": [
      "[2, 3, 4, 5, 1]\n"
     ]
    }
   ],
   "source": [
    "def list_shiftN(l, n):\n",
    "    # fill out this part\n",
    "    if n < 0 :\n",
    "        for i in range(int(-n)):\n",
    "            f = l[0]\n",
    "            l.pop(0)\n",
    "            l.append(f)\n",
    "    return l\n",
    "    \n",
    "\n",
    "l = [1,2,3,4,5]\n",
    "l = list_shiftN(l,-1)\n",
    "print(l)  #[2,3,4,5,1]"
   ]
  },
  {
   "cell_type": "code",
   "execution_count": 33,
   "metadata": {},
   "outputs": [
    {
     "name": "stdout",
     "output_type": "stream",
     "text": [
      "[2, 3, 4, 5, 1]\n"
     ]
    }
   ],
   "source": [
    "def list_shiftN(l, n):\n",
    "    if n < 0:\n",
    "        for i in range(-n):\n",
    "            \n",
    "    \n",
    "    \n",
    "    \n",
    "    \n",
    "    \n",
    "    \n",
    "    \n",
    "    \n",
    "    \n",
    "l = [1,2,3,4,5]\n",
    "l = list_shiftN(l,-1)\n",
    "print(l)  #[2,3,4,5,1]"
   ]
  },
  {
   "cell_type": "markdown",
   "metadata": {},
   "source": [
    "#### Problem 11 : Loop and Update data"
   ]
  },
  {
   "cell_type": "markdown",
   "metadata": {},
   "source": [
    "Here is a partially completed program that aims to solve the following problem. The user types in a sequence of positive integers, one per \n",
    "line, ending with the number 0. The program reads in this sequence and counts and outputs the number of pairs of consecutive numbers that  \n",
    "are in increasing order. An example interaction of this program with the user is given below.  \n",
    "Type a positive int (zero if done).20  \n",
    "Type a positive int (zero if done).23  \n",
    "Type a positive int (zero if done).25  \n",
    "Type a positive int (zero if done).20  \n",
    "Type a positive int (zero if done).19  \n",
    "Type a positive int (zero if done).9  \n",
    "Type a positive int (zero if done).10  \n",
    "Type a positive int (zero if done).0  \n",
    "3  \n",
    "The program outputs 3 because it detects three pairs of consecutive numbers in increasing order: (i) 20; 23, (ii)23;25, and (iii) 9; 10.   The program below has two blanks to _ll. Your task is to _ll in these blanks  "
   ]
  },
  {
   "cell_type": "code",
   "execution_count": 4,
   "metadata": {},
   "outputs": [
    {
     "name": "stdout",
     "output_type": "stream",
     "text": [
      "Type a positive int (zero if done).20\n",
      "Type a positive int (zero if done).23\n",
      "Type a positive int (zero if done).25\n",
      "Type a positive int (zero if done).20\n",
      "Type a positive int (zero if done).19\n",
      "Type a positive int (zero if done).9\n",
      "Type a positive int (zero if done).10\n",
      "Type a positive int (zero if done).0\n",
      "3\n"
     ]
    }
   ],
   "source": [
    "import sys\n",
    "\n",
    "# Variable used to read input numbers\n",
    "current = int(input(\"Type a positive int (zero if done).\"))\n",
    "# tracks the number just prior to the most recently read number\n",
    "previous = sys.maxsize\n",
    "# counter to track the number of consecutive, increasing pairs\n",
    "num_increasing_pairs = 0\n",
    "while current != 0 :  # or while current: \n",
    "    if current > previous:\n",
    "        num_increasing_pairs = num_increasing_pairs + 1\n",
    "    # Update previous (Blank 1)\n",
    "    previous = current\n",
    "    # Update current (Blank 2)\n",
    "    current = int(input(\"Type a positive int (zero if done).\"))\n",
    "print(num_increasing_pairs)\n"
   ]
  },
  {
   "cell_type": "markdown",
   "metadata": {},
   "source": [
    "#### Problem 12 : Python Functions"
   ]
  },
  {
   "cell_type": "markdown",
   "metadata": {},
   "source": [
    "Write a function called concatenate that takes a list of strings as a parameter and returns a long string that is the concatenation of all the strings in the list, taken in order. For example, if the given list is [\"Welcome\", \"to\", \"UNIST\"] then the function would return \"WelcometoUNIST\"."
   ]
  },
  {
   "cell_type": "code",
   "execution_count": 5,
   "metadata": {},
   "outputs": [
    {
     "name": "stdout",
     "output_type": "stream",
     "text": [
      "WelcometoUNIST\n"
     ]
    }
   ],
   "source": [
    "def concatenate(L):  \n",
    "    i = 0\n",
    "    s=\"\"\n",
    "    # write your coding in here using by loops\n",
    "    for x in L:\n",
    "        s = s + x\n",
    "    return s\n",
    "\n",
    "    \n",
    "    \n",
    "\n",
    "\n",
    "L= [\"Welcome\",\"to\",\"UNIST\"]\n",
    "print(concatenate(L))"
   ]
  },
  {
   "cell_type": "markdown",
   "metadata": {},
   "source": [
    "#### Problem 13 : Python Functions"
   ]
  },
  {
   "cell_type": "markdown",
   "metadata": {},
   "source": [
    "Write a function called is_sorted that takes a list of numbers as a parameter and returns True if the list of numbers is sorted in ascending order and False otherwise. For example, if the given list is [3, 8.5, 8.5, 11, 22] then the function would return True; if the given list is [3, 8.5, -11, 22] then the function would return False."
   ]
  },
  {
   "cell_type": "code",
   "execution_count": 6,
   "metadata": {},
   "outputs": [
    {
     "name": "stdout",
     "output_type": "stream",
     "text": [
      "True\n",
      "False\n"
     ]
    }
   ],
   "source": [
    "def is_sorted(L): \n",
    "    i=1\n",
    "    # write your coding in here using by loops\n",
    "    new_L = sorted(L)\n",
    "    if new_L == L:\n",
    "        return True\n",
    "    else:\n",
    "        return False\n",
    "\n",
    "    \n",
    "    \n",
    "    \n",
    "    \n",
    "  \n",
    "L = [3,8.5,8.5,11,22]\n",
    "print(is_sorted(L))\n",
    "L = [3,8.5,-11,22]\n",
    "print(is_sorted(L)) "
   ]
  },
  {
   "cell_type": "markdown",
   "metadata": {},
   "source": [
    "#### Problem 14 : Python Functions"
   ]
  },
  {
   "cell_type": "markdown",
   "metadata": {},
   "source": [
    "Write a function called subset that takes two lists and returns True if every element of the _rst list is also in the second list; otherwise the function returns False. For exam-ple, if the _rst list is [3, 8.5, -22] and the second list is [\"hello\", -22, \"hi\", 8.5,\"goblin\", 3] then function would return True. On the other hand, if the _rst list is [3,8.5, -22] and the second list if [\"hello\", -22, \"hi\", \"goblin\", 3] then the function would return False."
   ]
  },
  {
   "cell_type": "code",
   "execution_count": 7,
   "metadata": {},
   "outputs": [
    {
     "name": "stdout",
     "output_type": "stream",
     "text": [
      "False\n"
     ]
    }
   ],
   "source": [
    "def subset(L1, L2): # 5 problem \n",
    "    i=0 \n",
    "    # write your coding in here using by loops\n",
    "    for x in L1:\n",
    "        if x in L2:\n",
    "            i += 1\n",
    "    if i == len(L1):\n",
    "        return True\n",
    "    else:\n",
    "        return False\n",
    "\n",
    "    \n",
    "    \n",
    "    \n",
    "L1=[3,8,5, -22]\n",
    "L2=[\"hello\", -22, \"hi\", 8.5, \"goblin\", 3]\n",
    "print(subset(L1,L2))"
   ]
  },
  {
   "cell_type": "markdown",
   "metadata": {},
   "source": [
    "#### Problem 15 : Python Functions"
   ]
  },
  {
   "cell_type": "markdown",
   "metadata": {},
   "source": [
    "Write a function called min_index that takes a list of numbers as a parameter and returns the index of a smallest element in the list. If there are several smallest numbers in the list, it does not matter which index is returned. For example, if the parameter is [3, -1, 2, 3, -1, 11] then the function could return 1 or it could   return 4."
   ]
  },
  {
   "cell_type": "code",
   "execution_count": 9,
   "metadata": {},
   "outputs": [
    {
     "name": "stdout",
     "output_type": "stream",
     "text": [
      "1\n"
     ]
    }
   ],
   "source": [
    "def min_index(L): #  6 problem \n",
    "    smallest = L[0]\n",
    "    smallest_index = 0\n",
    "    i=1\n",
    "    # write your coding in here using by loops\n",
    "    for x in L:\n",
    "        compared = x\n",
    "        if compared < smallest:\n",
    "            smallest_index = L.index(compared)\n",
    "            smallest = compared\n",
    "        else:\n",
    "            continue\n",
    "    return smallest_index\n",
    "\n",
    "\n",
    "    \n",
    "    \n",
    "    \n",
    "    \n",
    "L = [3,-1,2,3,-1,11] \n",
    "print(min_index(L))"
   ]
  },
  {
   "cell_type": "code",
   "execution_count": 10,
   "metadata": {},
   "outputs": [
    {
     "name": "stdout",
     "output_type": "stream",
     "text": [
      "WelcometoUNIST\n",
      "True\n",
      "False\n",
      "False\n",
      "1\n"
     ]
    }
   ],
   "source": [
    "if __name__ == '__main__':\n",
    "# Runs some test cases only if invoked as a script.\n",
    "# problem 12 \n",
    "    L= [\"Welcome\",\"to\",\"UNIST\"]\n",
    "    print(concatenate(L)) \n",
    "# problem 13  \n",
    "    L = [3,8.5,8.5,11,22]\n",
    "    print(is_sorted(L))\n",
    "    L = [3,8.5,-11,22] \n",
    "    print(is_sorted(L)) \n",
    "# problem 14 \n",
    "    L1=[3,8,5, -22]\n",
    "    L2=[\"hello\", -22, \"hi\", 8.5, \"goblin\", 3]\n",
    "    print(subset(L1,L2))\n",
    "# problem 15 \n",
    "    L = [3,-1,2,3,-1,11] \n",
    "    print(min_index(L))\n",
    "\n"
   ]
  },
  {
   "cell_type": "code",
   "execution_count": null,
   "metadata": {},
   "outputs": [],
   "source": [
    "Thank you."
   ]
  }
 ],
 "metadata": {
  "kernelspec": {
   "display_name": "Python 3",
   "language": "python",
   "name": "python3"
  },
  "language_info": {
   "codemirror_mode": {
    "name": "ipython",
    "version": 3
   },
   "file_extension": ".py",
   "mimetype": "text/x-python",
   "name": "python",
   "nbconvert_exporter": "python",
   "pygments_lexer": "ipython3",
   "version": "3.7.4"
  }
 },
 "nbformat": 4,
 "nbformat_minor": 2
}
